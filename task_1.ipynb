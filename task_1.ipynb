{
 "cells": [
  {
   "cell_type": "markdown",
   "id": "7be73e30",
   "metadata": {},
   "source": [
    "Статистическое моделирование на ЭВМ  \n",
    "Задание №1  \n",
    "Работу выполнил Королев Е.В., студент М8О-401Б-18 группы  \n",
    "Преподаватель: Мирошкин В.Л.  \n",
    "Вариаент №6"
   ]
  },
  {
   "cell_type": "markdown",
   "id": "d7d23c2b",
   "metadata": {},
   "source": [
    "Рассматривается модель измерения некоторого параметра $\\theta$ со случайными ошибками:  \n",
    "$$ y_m = \\theta + \\varepsilon_m, ~~ m=\\overline{1,100} $$  \n",
    "где $\\{\\varepsilon_m\\}$ - центрированные независимые одинаково распределенные случайные величины."
   ]
  },
  {
   "cell_type": "markdown",
   "id": "eb8f188f",
   "metadata": {},
   "source": [
    "Законы распределения ошибок:  \n",
    "* $N(0,1)$;  \n",
    "* $E(1,-1)$;  \n",
    "* $0.9N(0,1) + 0.1N(0,100)$;  \n",
    "\n",
    "Точное значение $\\theta = -2$;  "
   ]
  },
  {
   "cell_type": "markdown",
   "id": "92448600",
   "metadata": {},
   "source": [
    "Методом статистического моделирования найти с.к. -погрешности МНК-оценки $\\hat\\theta$ (выборочное среднее) и МНМ-оценки $\\hat\\theta$ (выборочная медиана) неизвестного параметра $\\theta$ для различных вариантов распределения ошибок (смоделировать и обработать по 50 реа-лизаций каждой из оценок). Дать сравнительный анализ полученных оценок по их точности и чувствительности к виду закона распределения погрешностей."
   ]
  },
  {
   "cell_type": "code",
   "execution_count": 2,
   "id": "b31a07e8",
   "metadata": {},
   "outputs": [],
   "source": [
    "import numpy as np\n",
    "from numpy.random import uniform\n",
    "import matplotlib.pyplot as plt"
   ]
  },
  {
   "cell_type": "code",
   "execution_count": 27,
   "id": "1625f191",
   "metadata": {},
   "outputs": [],
   "source": [
    "def plot_sample(gen_fun, n, bins=30):\n",
    "    sample = [gen_fun() for _ in range(n)]\n",
    "    plt.hist(sample, bins=bins, density=True)"
   ]
  },
  {
   "cell_type": "code",
   "execution_count": 28,
   "id": "4fa8881f",
   "metadata": {},
   "outputs": [
    {
     "data": {
      "image/png": "[encoded data removed]",
      "text/plain": [
       "<Figure size 432x288 with 1 Axes>"
      ]
     },
     "metadata": {
      "needs_background": "light"
     },
     "output_type": "display_data"
    }
   ],
   "source": [
    "plot_sample(uniform, 100000)"
   ]
  },
  {
   "cell_type": "code",
   "execution_count": 13,
   "id": "a6477f8d",
   "metadata": {},
   "outputs": [],
   "source": [
    "# Box–Muller transform\n",
    "def normal(mu=0, sigma=1):\n",
    "    while True:\n",
    "        u_1, u_2 = uniform(), uniform()\n",
    "        v_1, v_2 = 2*u_1 - 1, 2*u_2 - 1\n",
    "        s = v_1*v_1 + v_2*v_2\n",
    "        if 0.0 < s < 1.0:\n",
    "            break\n",
    "    nu_1 = v_1 * np.sqrt(-2 * np.log(s) / s)\n",
    "#     nu_2 = v_2 * np.sqrt(-2 * np.log(s) / s)\n",
    "    return nu_1"
   ]
  },
  {
   "cell_type": "code",
   "execution_count": 29,
   "id": "07be2647",
   "metadata": {},
   "outputs": [
    {
     "data": {
      "image/png": "[encoded data removed]",
      "text/plain": [
       "<Figure size 432x288 with 1 Axes>"
      ]
     },
     "metadata": {
      "needs_background": "light"
     },
     "output_type": "display_data"
    }
   ],
   "source": [
    "plot_sample(gen_fun=normal, n=100000, bins=100)"
   ]
  },
  {
   "cell_type": "code",
   "execution_count": 32,
   "id": "523b15a4",
   "metadata": {},
   "outputs": [],
   "source": [
    "def normal_2(mu=0, sigma=1):\n",
    "    rv = 0\n",
    "    n = 40\n",
    "    for i in range(n):\n",
    "        rv += uniform()\n",
    "    return rv - n/2"
   ]
  },
  {
   "cell_type": "code",
   "execution_count": 33,
   "id": "6368214d",
   "metadata": {},
   "outputs": [
    {
     "data": {
      "image/png": "[encoded data removed]",
      "text/plain": [
       "<Figure size 432x288 with 1 Axes>"
      ]
     },
     "metadata": {
      "needs_background": "light"
     },
     "output_type": "display_data"
    }
   ],
   "source": [
    "plot_sample(gen_fun=normal_2, n=100000, bins=100)"
   ]
  },
  {
   "cell_type": "markdown",
   "id": "3cd85f69",
   "metadata": {},
   "source": [
    "Выведем формулу для генерации СВ с экспоненциальным распределением.  \n",
    "$E(\\lambda, a): ~~ f(x)=\\lambda e^{-\\lambda(x-a)}, ~x > a$.  \n",
    "Функция распределения вероятностей: $F(x) = \\int\\limits_0^x \\lambda e^{-\\lambda(s-a)}ds = -\\int\\limits_0^x e^{-\\lambda(s-a)}d(-\\lambda (s-a)) = 1 - e^{-\\lambda(x-a)}$.  \n",
    "Найдем обратную функцию к $F(X)$: $y = 1 - e^{-\\lambda(x-a)} \\leftrightarrow e^{-\\lambda(x-a)} = 1 - y \\leftrightarrow -\\lambda(x-a) = \\ln(1-y) \\leftrightarrow x = a - \\dfrac{\\ln(1-y)}{\\lambda}$.  \n",
    "Если y имеет равномерное распределение от 0 до 1, то 1-y также имеет равномерное распределение от 0 до 1.  \n",
    "Таким образом, получили формулу: $\\xi = a - \\dfrac{\\ln(\\mu)}{\\lambda}$, позволяющую генерировать СВ с экспоненциальным распределением, используя генератор равномерного распределения."
   ]
  },
  {
   "cell_type": "code",
   "execution_count": 37,
   "id": "197355d8",
   "metadata": {},
   "outputs": [],
   "source": [
    "def exponential(a=0, lam=1):\n",
    "    return a - np.log(uniform())/lam"
   ]
  },
  {
   "cell_type": "code",
   "execution_count": 38,
   "id": "48518efe",
   "metadata": {},
   "outputs": [
    {
     "data": {
      "image/png": "[encoded data removed]",
      "text/plain": [
       "<Figure size 432x288 with 1 Axes>"
      ]
     },
     "metadata": {
      "needs_background": "light"
     },
     "output_type": "display_data"
    }
   ],
   "source": [
    "plot_sample(gen_fun=exponential, n=100000, bins=100)"
   ]
  },
  {
   "cell_type": "code",
   "execution_count": 41,
   "id": "f840a913",
   "metadata": {},
   "outputs": [],
   "source": [
    "def tukey(delta=0.1, big_sigma=100):\n",
    "    if delta > uniform():\n",
    "        return delta * normal()\n",
    "    else:\n",
    "        return (1 - delta) * normal(sigma=big_sigma)"
   ]
  },
  {
   "cell_type": "code",
   "execution_count": 42,
   "id": "60fdfd74",
   "metadata": {},
   "outputs": [
    {
     "data": {
      "image/png": "[encoded data removed]",
      "text/plain": [
       "<Figure size 432x288 with 1 Axes>"
      ]
     },
     "metadata": {
      "needs_background": "light"
     },
     "output_type": "display_data"
    }
   ],
   "source": [
    "plot_sample(gen_fun=tukey, n=100000, bins=100)"
   ]
  },
  {
   "cell_type": "code",
   "execution_count": 73,
   "id": "af2d231f",
   "metadata": {},
   "outputs": [],
   "source": [
    "def gen_samples(n=100):\n",
    "    theta = -2\n",
    "    y_1 = [theta + normal() for _ in range(n)]\n",
    "    y_2 = [theta + normal_2() for _ in range(n)]\n",
    "    y_3 = [theta + exponential() for _ in range(n)]\n",
    "    y_4 = [theta + tukey() for _ in range(n)]\n",
    "    \n",
    "    return [y_1, y_2, y_3, y_4]\n",
    "\n",
    "def MNK(y):\n",
    "    return sum(y) / len(y)\n",
    "\n",
    "def MNM(y):\n",
    "    n = len(y)\n",
    "    y = sorted(y)\n",
    "    if n % 2 == 0:\n",
    "        return (y[n//2-1] + y[n//2]) / 2\n",
    "    else:\n",
    "        return y[n//2]\n",
    "\n",
    "def get_estimations(n=100):\n",
    "    y = gen_samples(n=n)\n",
    "    thetas_mnk = [MNK(y_i) for y_i in y]\n",
    "    thetas_mnm = [MNM(y_i) for y_i in y]\n",
    "    print('normal,  normal_2,  exponential,  tukey')\n",
    "    print('MNK:', thetas_mnk)\n",
    "    print('MNM:', thetas_mnm)\n",
    "\n",
    "def get_mean_estimations(n=100, m=50):\n",
    "    mean_mnk = [0, 0, 0, 0]\n",
    "    mean_mnm = [0, 0, 0, 0]\n",
    "    for i in range(m):\n",
    "        y = gen_samples(n=n)\n",
    "        for i in range(len(y)):\n",
    "            mean_mnk[i] += MNK(y[i])\n",
    "            mean_mnm[i] += MNM(y[i])\n",
    "    mean_mnk = [mnk / m for mnk in mean_mnk]\n",
    "    mean_mnm = [mnm / m for mnm in mean_mnm]\n",
    "    print('normal,  normal_2,  exponential,  tukey')\n",
    "    print('MNK:', mean_mnk)\n",
    "    print('MNM:', mean_mnm)"
   ]
  },
  {
   "cell_type": "code",
   "execution_count": 71,
   "id": "d4d4bc36",
   "metadata": {},
   "outputs": [
    {
     "name": "stdout",
     "output_type": "stream",
     "text": [
      "normal,  normal_2,  exponential,  tukey\n",
      "MNK: [-1.9729532410064998, -1.8566761690554723, -0.9036876816044187, -2.1516811617990586]\n",
      "MNM: [-2.0316332668898998, -1.6396263137327143, -1.2432184916382165, -2.042443834855991]\n",
      "normal,  normal_2,  exponential,  tukey\n",
      "MNK: [-2.0463369275815992, -2.0413943025559216, -0.9880739951024151, -1.985425136128931]\n",
      "MNM: [-2.0782162136233175, -2.009601706230077, -1.3123748443434697, -1.9914354489777528]\n",
      "normal,  normal_2,  exponential,  tukey\n",
      "MNK: [-2.00398891168142, -2.0203292803443373, -0.9863462584177196, -2.0192863069084472]\n",
      "MNM: [-2.0046913427581883, -2.0018231392955563, -1.3026046502425817, -2.010318526378438]\n",
      "normal,  normal_2,  exponential,  tukey\n",
      "MNK: [-2.0040278823929683, -1.998477145234694, -0.9974088169415017, -1.9976082906025447]\n",
      "MNM: [-2.0052377447914993, -2.005542718915052, -1.3050661142182995, -1.9985527593123078]\n"
     ]
    }
   ],
   "source": [
    "get_estimations()\n",
    "get_estimations(1000)\n",
    "get_estimations(10000)\n",
    "get_estimations(100000)"
   ]
  },
  {
   "cell_type": "code",
   "execution_count": 74,
   "id": "406d4f27",
   "metadata": {},
   "outputs": [
    {
     "name": "stdout",
     "output_type": "stream",
     "text": [
      "normal,  normal_2,  exponential,  tukey\n",
      "MNK: [-2.0146853998679743, -2.0239980598795366, -1.0091391307562951, -1.9935193807506886]\n",
      "MNM: [-2.014921267072418, -2.0418760135380385, -1.3056591033494298, -2.010170092249017]\n",
      "normal,  normal_2,  exponential,  tukey\n",
      "MNK: [-1.9997253036925249, -2.000313956957532, -1.0000568293122902, -2.0005164810593605]\n",
      "MNM: [-1.9998459452749715, -2.0009306047294984, -1.307009838798324, -2.0002081677174433]\n",
      "normal,  normal_2,  exponential,  tukey\n",
      "MNK: [-2.0003662300182006, -2.000322731515126, -0.9999633491698001, -1.9995975665479788]\n",
      "MNM: [-2.000128927844819, -2.000938724630632, -1.3060461619906254, -1.9995721901295285]\n"
     ]
    }
   ],
   "source": [
    "get_mean_estimations()\n",
    "get_mean_estimations(n=1000, m=1000)\n",
    "get_mean_estimations(n=1000, m=10000)"
   ]
  },
  {
   "cell_type": "markdown",
   "id": "3ed71a8c",
   "metadata": {},
   "source": [
    "Выводы: МНК-оценка оказалась наилучшей для случая ошибок с нормальным законом распределения, причем алгоритм Бокса - Мюллера оказаося лучше, чем алгоритм, основанный на центральной предельной теореме. В случае экпоненциальных ошибок ошибки имеют один и тот же знак, поэтому МНК и МНМ-оценки получаются смещенными, при этом МНК-оценка ровно в 2 раза меньше искомого параметра. Для данных с выбросами (распределение Тьюки) МНМ-оценка оказалась лучше, поскольку в ее основе лежит медианное среднее, а МНК-оценке среднее арифметическое. Для случая экспоненциальных ошибок можно попробовать квантильную регрессию с параметром квантиля 1.0."
   ]
  }
 ],
 "metadata": {
  "kernelspec": {
   "display_name": "Python 3",
   "language": "python",
   "name": "python3"
  },
  "language_info": {
   "codemirror_mode": {
    "name": "ipython",
    "version": 3
   },
   "file_extension": ".py",
   "mimetype": "text/x-python",
   "name": "python",
   "nbconvert_exporter": "python",
   "pygments_lexer": "ipython3",
   "version": "3.8.8"
  },
  "latex_envs": {
   "LaTeX_envs_menu_present": true,
   "autoclose": false,
   "autocomplete": true,
   "bibliofile": "biblio.bib",
   "cite_by": "apalike",
   "current_citInitial": 1,
   "eqLabelWithNumbers": true,
   "eqNumInitial": 1,
   "hotkeys": {
    "equation": "Ctrl-E",
    "itemize": "Ctrl-I"
   },
   "labels_anchors": false,
   "latex_user_defs": false,
   "report_style_numbering": false,
   "user_envs_cfg": false
  },
  "toc": {
   "base_numbering": 1,
   "nav_menu": {},
   "number_sections": true,
   "sideBar": true,
   "skip_h1_title": false,
   "title_cell": "Table of Contents",
   "title_sidebar": "Contents",
   "toc_cell": false,
   "toc_position": {},
   "toc_section_display": true,
   "toc_window_display": false
  }
 },
 "nbformat": 4,
 "nbformat_minor": 5
}
