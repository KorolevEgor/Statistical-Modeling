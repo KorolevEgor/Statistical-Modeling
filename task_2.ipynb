{
 "cells": [
  {
   "cell_type": "markdown",
   "id": "1eb1434f",
   "metadata": {},
   "source": [
    "Статистическое моделирование на ЭВМ  \n",
    "Задание №2  \n",
    "Работу выполнил Королев Е.В., студент М8О-401Б-18 группы  \n",
    "Преподаватель: Мирошкин В.Л.  \n",
    "Вариаент №6"
   ]
  },
  {
   "cell_type": "markdown",
   "id": "bf7b1fc6",
   "metadata": {},
   "source": [
    "# Постановка задачи"
   ]
  },
  {
   "cell_type": "markdown",
   "id": "ba6d1595",
   "metadata": {},
   "source": [
    "Построить формирующий фильтр для случайного процесса $X(t)$, имеющего спектральную плотность $f_X(\\lambda)$. Смоделировать три реализации этого процесса на промежутке $[0; 10]$ методом численного интегрирования уравнений формирующего фильтра (шаг интегрирования $h=0.05$, нулевые начальные значения).\n",
    "$f_X(\\lambda) = \\dfrac{\\lambda^2+2.25}{(4\\lambda^2 + 9)^2}$."
   ]
  },
  {
   "cell_type": "markdown",
   "id": "c4c70ddb",
   "metadata": {},
   "source": [
    "# Декомпозируем спектральную плотность:\n",
    "$f_X(\\lambda) = \\dfrac{F(\\lambda)}{H(\\lambda)}, ~~ F(\\lambda) = \\lambda^2+2.25 = (\\lambda + 1.5i)(\\lambda - 1.5i), ~~ H(\\lambda) = (4\\lambda^2 + 9)^2$"
   ]
  },
  {
   "cell_type": "markdown",
   "id": "a0330377",
   "metadata": {},
   "source": [
    "# Найдем спектральное разложение:\n",
    "$F(\\lambda)=F_1(i\\lambda)F_1(-i\\lambda)$ и $H(\\lambda)=H_1(i\\lambda)H_1(-i\\lambda)$.  \n",
    "$F_1(z) = 1.5 - z ~~ \\rightarrow ~~ F_1(i\\lambda)F_1(-i\\lambda) = (1.5 - i\\lambda)(1.5 + i\\lambda) = 2.25 + \\lambda^2 = F(\\lambda)$  \n",
    "$H_1(z) = 9 - (2z)^2 ~~ \\rightarrow ~~ H_1(i\\lambda)H_1(-i\\lambda) = (9 - (2i\\lambda)^2)(9 - (-2i\\lambda)^2) = (9 + 4\\lambda^2)(9 + 4\\lambda^2) = (9 + 4\\lambda^2)^2 = H(\\lambda)$"
   ]
  },
  {
   "cell_type": "markdown",
   "id": "42adca98",
   "metadata": {},
   "source": [
    "# Сформируем передаточную функцию:\n",
    "$\\Phi(z) = \\dfrac{F_1(z)}{H_1(z)} = \\dfrac{1.5 - z}{9-4z^2} = \\dfrac{z/4 - 1.5/4}{z^2 - 2.25} = \\dfrac{b_0z + b_1}{z^2 + a_1 z + a_2}, ~~ b_0 = 0.25, b_1 = -0.375 = -1, a_1 = 0, a_2 = -2.25$"
   ]
  },
  {
   "cell_type": "markdown",
   "id": "508c837e",
   "metadata": {},
   "source": [
    "# Построим дифференциальное уравнение:\n",
    "$\\ddot y + a_1 \\dot y + a_2 y = b_0 \\dot x + b_1x$.  \n",
    "$\\ddot y -2.25y = 0.25 \\dot x - 0.375x$"
   ]
  },
  {
   "cell_type": "markdown",
   "id": "32642c12",
   "metadata": {},
   "source": [
    "# Построим разностную схему:\n",
    "$y_1 = y$  \n",
    "$$\\begin{cases}\n",
    "\\dot y_1 = y_2 + q_1 x\\\\\n",
    "\\dot y_2 = 2.25 y_1 + q_2 x\n",
    "\\end{cases}$$  \n",
    "$y_2 = \\dot y_1 - q_1 x$  \n",
    "$\\dot y_2 = \\ddot y_1 - \\dot q_1 x - q_1 \\dot x$  \n",
    "$2.25 y_1 + q_2 x = \\ddot y_1 - \\dot q_1 x - q_1 \\dot x$  \n",
    "$\\ddot y_1 - 2.25 y_1 = q_1 \\dot x + (q_2 + \\dot q_1) x$  \n",
    "$\\ddot y -2.25y = 0.25 \\dot x - 0.375x$  \n",
    "Следовательно, $q_1 = 0.25, ~~ q_2 + \\dot q_1 = -0.375$  \n",
    "Откуда $q_1 = 0.25, ~~ q_2 = -0.375$\n",
    "$$\\begin{cases}\n",
    "\\dot y_1 = y_2 + 0.25 x\\\\\n",
    "\\dot y_2 = 2.25 y_1 - 0.375 x\n",
    "\\end{cases}$$  "
   ]
  },
  {
   "cell_type": "markdown",
   "id": "ada0d6a1",
   "metadata": {},
   "source": [
    "$$\\begin{cases}\n",
    "\\dfrac{y_1(t+h) - y_1(t)}{h} = y_2(t) + 0.25 x(t)\\\\\n",
    "\\dfrac{y_2(t+h) - y_2(t)}{h} = 2.25 y_1(t) - 0.375 x(t)\n",
    "y_1(0) = 0\\\\\n",
    "y_2(0) = 0\n",
    "\\end{cases}$$  \n",
    "\n",
    "$$\\begin{cases}\n",
    "y_1(t+h) = y_1(t) + y_2(t) h + 0.25 h x(t)\\\\\n",
    "y_2(t+h) = y_2(t) + 2.25 h y_1(t) - 0.375 h x(t)\\\\\n",
    "y_1(0) = 0\\\\\n",
    "y_2(0) = 0\n",
    "\\end{cases}$$  \n",
    "\n",
    "$x(t) = \\sqrt{2\\pi}\\varepsilon_X$ -- белый шум, $\\varepsilon_X \\sim N(0,1)$\n",
    "\n",
    "$$\\begin{cases}\n",
    "y_1(t+h) = y_1(t) + y_2(t) h + 0.25 h \\sqrt{2\\pi}\\varepsilon_X\\\\\n",
    "y_2(t+h) = y_2(t) + 2.25 h y_1(t) - 0.375 h \\sqrt{2\\pi}\\varepsilon_X\\\\\n",
    "y_1(0) = 0\\\\\n",
    "y_2(0) = 0\n",
    "\\end{cases}$$  "
   ]
  },
  {
   "cell_type": "markdown",
   "id": "8be51c54",
   "metadata": {},
   "source": [
    "# Численный эксперимент"
   ]
  },
  {
   "cell_type": "code",
   "execution_count": 24,
   "id": "0950acec",
   "metadata": {},
   "outputs": [],
   "source": [
    "import numpy as np\n",
    "import matplotlib.pyplot as plt\n",
    "def gen_rand_proc(a=0, b=10, h=0.05):\n",
    "    y_1, y_2 = [0], [0]\n",
    "    X = [a]\n",
    "    for t in np.arange(a + h, b+h/2, h):\n",
    "        X.append(t)\n",
    "        x = np.sqrt(2*np.pi)*np.random.normal(0,1)\n",
    "        y_1.append(y_1[-1] + y_2[-1]*h      + 0.25*h*x)\n",
    "        y_2.append(y_2[-1] + 2.25*y_1[-1]*h - 0.375*h*x)\n",
    "    return X, y_1"
   ]
  },
  {
   "cell_type": "code",
   "execution_count": 29,
   "id": "6a578c75",
   "metadata": {},
   "outputs": [
    {
     "data": {
      "image/png": "[encoded data removed]",
      "text/plain": [
       "<Figure size 432x288 with 1 Axes>"
      ]
     },
     "metadata": {
      "needs_background": "light"
     },
     "output_type": "display_data"
    }
   ],
   "source": [
    "n = 5\n",
    "for _ in range(n):\n",
    "    x, y = gen_rand_proc()\n",
    "    plt.plot(x, y)\n",
    "plt.grid()\n",
    "plt.show()"
   ]
  },
  {
   "cell_type": "code",
   "execution_count": 43,
   "id": "617d28aa",
   "metadata": {},
   "outputs": [
    {
     "data": {
      "image/png": "[encoded data removed]",
      "text/plain": [
       "<Figure size 432x288 with 1 Axes>"
      ]
     },
     "metadata": {
      "needs_background": "light"
     },
     "output_type": "display_data"
    }
   ],
   "source": [
    "n = 1\n",
    "for _ in range(n):\n",
    "    x, y = gen_rand_proc(a=0, b=1, h=0.01)\n",
    "    plt.plot(x, y)\n",
    "plt.grid()\n",
    "plt.show()"
   ]
  },
  {
   "cell_type": "markdown",
   "id": "ee191064",
   "metadata": {},
   "source": [
    "# Выводы\n",
    "Был построен формирующий фильтр для случайного процесса, заданного спектральной плотностью $f_X(\\lambda)$. Было проведено моделирование случайного процесса на промежутках $[0;10]$ и $[0;1]$. На большом маштабе СП ведет себя экспоненциально, хотя на меньшем масштабе это не сильно заметно."
   ]
  }
 ],
 "metadata": {
  "kernelspec": {
   "display_name": "Python 3",
   "language": "python",
   "name": "python3"
  },
  "language_info": {
   "codemirror_mode": {
    "name": "ipython",
    "version": 3
   },
   "file_extension": ".py",
   "mimetype": "text/x-python",
   "name": "python",
   "nbconvert_exporter": "python",
   "pygments_lexer": "ipython3",
   "version": "3.8.8"
  },
  "latex_envs": {
   "LaTeX_envs_menu_present": true,
   "autoclose": false,
   "autocomplete": true,
   "bibliofile": "biblio.bib",
   "cite_by": "apalike",
   "current_citInitial": 1,
   "eqLabelWithNumbers": true,
   "eqNumInitial": 1,
   "hotkeys": {
    "equation": "Ctrl-E",
    "itemize": "Ctrl-I"
   },
   "labels_anchors": false,
   "latex_user_defs": false,
   "report_style_numbering": false,
   "user_envs_cfg": false
  },
  "toc": {
   "base_numbering": 1,
   "nav_menu": {},
   "number_sections": true,
   "sideBar": true,
   "skip_h1_title": false,
   "title_cell": "Table of Contents",
   "title_sidebar": "Contents",
   "toc_cell": false,
   "toc_position": {},
   "toc_section_display": true,
   "toc_window_display": false
  }
 },
 "nbformat": 4,
 "nbformat_minor": 5
}
